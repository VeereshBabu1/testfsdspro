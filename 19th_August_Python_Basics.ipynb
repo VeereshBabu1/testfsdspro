{
 "cells": [
  {
   "cell_type": "markdown",
   "id": "98b3bce3",
   "metadata": {},
   "source": [
    "# Python - Assignment"
   ]
  },
  {
   "cell_type": "markdown",
   "id": "30b7938a",
   "metadata": {},
   "source": [
    "# TOPIC: Python Basics Variable"
   ]
  },
  {
   "cell_type": "markdown",
   "id": "f303c661",
   "metadata": {},
   "source": [
    "1. Declare two variables, `x` and `y`, and assign them integer values. Swap the\n",
    "values of these variables without using any temporary variable."
   ]
  },
  {
   "cell_type": "markdown",
   "id": "677914fb",
   "metadata": {},
   "source": [
    "Creating and Assigning variables"
   ]
  },
  {
   "cell_type": "code",
   "execution_count": 3,
   "id": "2f95d29b",
   "metadata": {},
   "outputs": [],
   "source": [
    "x = 10"
   ]
  },
  {
   "cell_type": "code",
   "execution_count": 4,
   "id": "897b51d6",
   "metadata": {},
   "outputs": [],
   "source": [
    "y = 20"
   ]
  },
  {
   "cell_type": "markdown",
   "id": "127ee12f",
   "metadata": {},
   "source": [
    "Implementing Swap steps"
   ]
  },
  {
   "cell_type": "code",
   "execution_count": 5,
   "id": "d732233a",
   "metadata": {},
   "outputs": [],
   "source": [
    "x = x+y # x=30"
   ]
  },
  {
   "cell_type": "code",
   "execution_count": 6,
   "id": "03db554a",
   "metadata": {},
   "outputs": [],
   "source": [
    "y = x-y # y=10"
   ]
  },
  {
   "cell_type": "code",
   "execution_count": 7,
   "id": "54d3d132",
   "metadata": {},
   "outputs": [],
   "source": [
    "x = x-y # x=20"
   ]
  },
  {
   "cell_type": "markdown",
   "id": "014109a4",
   "metadata": {},
   "source": [
    "Printing Swapped Integers"
   ]
  },
  {
   "cell_type": "code",
   "execution_count": 9,
   "id": "b471fb9c",
   "metadata": {},
   "outputs": [
    {
     "data": {
      "text/plain": [
       "20"
      ]
     },
     "execution_count": 9,
     "metadata": {},
     "output_type": "execute_result"
    }
   ],
   "source": [
    "x"
   ]
  },
  {
   "cell_type": "code",
   "execution_count": 10,
   "id": "a5c45762",
   "metadata": {},
   "outputs": [
    {
     "data": {
      "text/plain": [
       "10"
      ]
     },
     "execution_count": 10,
     "metadata": {},
     "output_type": "execute_result"
    }
   ],
   "source": [
    "y"
   ]
  },
  {
   "cell_type": "markdown",
   "id": "d6844a23",
   "metadata": {},
   "source": [
    "2. Create a program that calculates the area of a rectangle. Take the length and\n",
    "width as inputs from the user and store them in variables. Calculate and\n",
    "display the area."
   ]
  },
  {
   "cell_type": "markdown",
   "id": "28d00e8e",
   "metadata": {},
   "source": [
    "Take the length and width as inputs"
   ]
  },
  {
   "cell_type": "code",
   "execution_count": 12,
   "id": "7f96d5de",
   "metadata": {},
   "outputs": [
    {
     "name": "stdout",
     "output_type": "stream",
     "text": [
      "Enter the Length of a rectangle:5\n"
     ]
    }
   ],
   "source": [
    "length = int(input(\"Enter the Length of a rectangle:\"))"
   ]
  },
  {
   "cell_type": "code",
   "execution_count": 13,
   "id": "4037e7c9",
   "metadata": {},
   "outputs": [
    {
     "name": "stdout",
     "output_type": "stream",
     "text": [
      "Enter the Width of a rectangle:10\n"
     ]
    }
   ],
   "source": [
    "width = int(input(\"Enter the Width of a rectangle:\"))"
   ]
  },
  {
   "cell_type": "markdown",
   "id": "3339ac3a",
   "metadata": {},
   "source": [
    "Calculating Area of Rectangle"
   ]
  },
  {
   "cell_type": "code",
   "execution_count": 14,
   "id": "1b9991ab",
   "metadata": {},
   "outputs": [],
   "source": [
    "Area = length*width"
   ]
  },
  {
   "cell_type": "code",
   "execution_count": 15,
   "id": "491c277f",
   "metadata": {},
   "outputs": [
    {
     "data": {
      "text/plain": [
       "50"
      ]
     },
     "execution_count": 15,
     "metadata": {},
     "output_type": "execute_result"
    }
   ],
   "source": [
    "Area"
   ]
  },
  {
   "cell_type": "markdown",
   "id": "aa7963f0",
   "metadata": {},
   "source": [
    "3. Write a Python program that converts temperatures from Celsius to\n",
    "Fahrenheit. Take the temperature in Celsius as input, store it in a variable,\n",
    "convert it to Fahrenheit, and display the result."
   ]
  },
  {
   "cell_type": "markdown",
   "id": "e892552b",
   "metadata": {},
   "source": [
    "Taking Celsius as input:"
   ]
  },
  {
   "cell_type": "code",
   "execution_count": 16,
   "id": "57ccc2ca",
   "metadata": {},
   "outputs": [
    {
     "name": "stdout",
     "output_type": "stream",
     "text": [
      "Enter the Celsius temperature:50\n"
     ]
    }
   ],
   "source": [
    "C = int(input(\"Enter the Celsius temperature:\"))"
   ]
  },
  {
   "cell_type": "markdown",
   "id": "ca0b22de",
   "metadata": {},
   "source": [
    "Farmula for Fahrenheit"
   ]
  },
  {
   "cell_type": "code",
   "execution_count": 18,
   "id": "3056e2e3",
   "metadata": {},
   "outputs": [
    {
     "name": "stdout",
     "output_type": "stream",
     "text": [
      "122.0\n"
     ]
    }
   ],
   "source": [
    "F = C*(9/5)+32\n",
    "print(F)"
   ]
  },
  {
   "cell_type": "markdown",
   "id": "0e3ff8b5",
   "metadata": {},
   "source": [
    "# TOPIC: String Based Questions"
   ]
  },
  {
   "cell_type": "markdown",
   "id": "d3646e17",
   "metadata": {},
   "source": [
    "1. Write a Python program that takes a string as input and prints the length of\n",
    "the string."
   ]
  },
  {
   "cell_type": "code",
   "execution_count": 19,
   "id": "50a04dd9",
   "metadata": {},
   "outputs": [
    {
     "name": "stdout",
     "output_type": "stream",
     "text": [
      "Enter the string:Veeresh\n"
     ]
    }
   ],
   "source": [
    "String = input(\"Enter the string:\")"
   ]
  },
  {
   "cell_type": "markdown",
   "id": "f773b6b3",
   "metadata": {},
   "source": [
    "Printing the Length of String"
   ]
  },
  {
   "cell_type": "code",
   "execution_count": 20,
   "id": "43f0db66",
   "metadata": {},
   "outputs": [
    {
     "name": "stdout",
     "output_type": "stream",
     "text": [
      "The Length of the String is: 7\n"
     ]
    }
   ],
   "source": [
    "print(\"The Length of the String is:\",len(String))"
   ]
  },
  {
   "cell_type": "markdown",
   "id": "da0123d2",
   "metadata": {},
   "source": [
    "2. Create a program that takes a sentence from the user and counts the number\n",
    "of vowels (a, e, i, o, u) in the string."
   ]
  },
  {
   "cell_type": "code",
   "execution_count": 3,
   "id": "a4b38982",
   "metadata": {},
   "outputs": [
    {
     "name": "stdout",
     "output_type": "stream",
     "text": [
      "Enter the string:Pwskills is awesome\n",
      "No. of Vowels in a String: 6\n"
     ]
    }
   ],
   "source": [
    "String = input(\"Enter the string:\")\n",
    "l = ['a','e','i','o','u']\n",
    "count = 0\n",
    "for i in String:\n",
    "    if i in l:\n",
    "        count += 1\n",
    "print(\"No. of Vowels in a String:\",count)"
   ]
  },
  {
   "cell_type": "markdown",
   "id": "fbd464bb",
   "metadata": {},
   "source": [
    "3. Given a string, reverse the order of characters using string slicing and print\n",
    "the reversed string."
   ]
  },
  {
   "cell_type": "markdown",
   "id": "3c0f0e9c",
   "metadata": {},
   "source": [
    "String as input"
   ]
  },
  {
   "cell_type": "code",
   "execution_count": 4,
   "id": "c09a159d",
   "metadata": {},
   "outputs": [
    {
     "name": "stdout",
     "output_type": "stream",
     "text": [
      "Enter the string:PWSKILLS\n"
     ]
    }
   ],
   "source": [
    "String = input(\"Enter the string:\")"
   ]
  },
  {
   "cell_type": "code",
   "execution_count": 7,
   "id": "ae677476",
   "metadata": {},
   "outputs": [
    {
     "name": "stdout",
     "output_type": "stream",
     "text": [
      "SLLIKSWP\n"
     ]
    }
   ],
   "source": [
    "print(String[::-1]) #String revense using slicing"
   ]
  },
  {
   "cell_type": "markdown",
   "id": "9a4658ed",
   "metadata": {},
   "source": [
    "4. Write a program that takes a string as input and checks if it is a palindrome\n",
    "(reads the same forwards and backwards)."
   ]
  },
  {
   "cell_type": "code",
   "execution_count": 8,
   "id": "ab646c6b",
   "metadata": {},
   "outputs": [
    {
     "name": "stdout",
     "output_type": "stream",
     "text": [
      "Enter the string:PyP\n"
     ]
    }
   ],
   "source": [
    "St = input(\"Enter the string:\")"
   ]
  },
  {
   "cell_type": "code",
   "execution_count": 11,
   "id": "c70979b0",
   "metadata": {},
   "outputs": [
    {
     "name": "stdout",
     "output_type": "stream",
     "text": [
      "Palindrome\n"
     ]
    }
   ],
   "source": [
    "if St == St[::-1]:\n",
    "    print(\"Palindrome\")\n",
    "else:\n",
    "    print(\"Not a Palindrome\")"
   ]
  },
  {
   "cell_type": "markdown",
   "id": "95b73b7e",
   "metadata": {},
   "source": [
    "5. Create a program that takes a string as input and removes all the spaces from\n",
    "it. Print the modified string without spaces."
   ]
  },
  {
   "cell_type": "markdown",
   "id": "5c3482f7",
   "metadata": {},
   "source": [
    "a string as input"
   ]
  },
  {
   "cell_type": "code",
   "execution_count": 12,
   "id": "d7502a65",
   "metadata": {},
   "outputs": [
    {
     "name": "stdout",
     "output_type": "stream",
     "text": [
      "Enter the string:Hi I am Veeresh\n"
     ]
    }
   ],
   "source": [
    "Str = input(\"Enter the string:\")"
   ]
  },
  {
   "cell_type": "code",
   "execution_count": 18,
   "id": "f21f79e4",
   "metadata": {},
   "outputs": [
    {
     "name": "stdout",
     "output_type": "stream",
     "text": [
      "HiIamVeeresh\n"
     ]
    }
   ],
   "source": [
    "print(Str.replace(\" \",\"\")) #Removing all the spacess from string."
   ]
  },
  {
   "cell_type": "code",
   "execution_count": null,
   "id": "7a48805d",
   "metadata": {},
   "outputs": [],
   "source": []
  },
  {
   "cell_type": "code",
   "execution_count": null,
   "id": "82025c94",
   "metadata": {},
   "outputs": [],
   "source": []
  }
 ],
 "metadata": {
  "kernelspec": {
   "display_name": "Python 3 (ipykernel)",
   "language": "python",
   "name": "python3"
  },
  "language_info": {
   "codemirror_mode": {
    "name": "ipython",
    "version": 3
   },
   "file_extension": ".py",
   "mimetype": "text/x-python",
   "name": "python",
   "nbconvert_exporter": "python",
   "pygments_lexer": "ipython3",
   "version": "3.11.4"
  }
 },
 "nbformat": 4,
 "nbformat_minor": 5
}
