{
 "cells": [
  {
   "cell_type": "markdown",
   "id": "fdaa0fee",
   "metadata": {},
   "source": [
    "# Control Flow"
   ]
  },
  {
   "cell_type": "markdown",
   "id": "cee49387",
   "metadata": {},
   "source": [
    "# Basic If-Else Statements:"
   ]
  },
  {
   "cell_type": "markdown",
   "id": "97adcc96",
   "metadata": {},
   "source": [
    "1. Write a Python program to check if a given number is positive or negative."
   ]
  },
  {
   "cell_type": "code",
   "execution_count": 1,
   "id": "37063cc6",
   "metadata": {},
   "outputs": [
    {
     "name": "stdout",
     "output_type": "stream",
     "text": [
      "Positive\n"
     ]
    }
   ],
   "source": [
    "n = 10\n",
    "if n>=0:\n",
    "    print(\"Positive\")\n",
    "else:\n",
    "    print(\"Negative\")"
   ]
  },
  {
   "cell_type": "markdown",
   "id": "931eb5eb",
   "metadata": {},
   "source": [
    "2. Create a program that determines if a person is eligible to vote based on their age."
   ]
  },
  {
   "cell_type": "code",
   "execution_count": null,
   "id": "8344c2a5",
   "metadata": {},
   "outputs": [],
   "source": [
    "age = int(input(\"Enter the age:\"))\n",
    "if age > 18:\n",
    "    print(\"Eligible for vote\")\n",
    "else:\n",
    "    print(\"Not Eligible to vote\")"
   ]
  },
  {
   "cell_type": "markdown",
   "id": "bead1545",
   "metadata": {},
   "source": [
    "3. Develop a program to find the maximum of two numbers using if-else statements."
   ]
  },
  {
   "cell_type": "code",
   "execution_count": null,
   "id": "294307b1",
   "metadata": {},
   "outputs": [],
   "source": [
    "n1 = int(input(\"Enter the Number:\"))\n",
    "n2 = int(input(\"Enter the Number:\"))\n",
    "if n1>n2:\n",
    "    print(\"Maximum Number is:\",n1)\n",
    "else:\n",
    "    print(\"Maximum Number is:\",n2)"
   ]
  },
  {
   "cell_type": "markdown",
   "id": "31c99c2c",
   "metadata": {},
   "source": [
    "4. Write a Python script to classify a given year as a leap year or not."
   ]
  },
  {
   "cell_type": "code",
   "execution_count": null,
   "id": "b5087535",
   "metadata": {},
   "outputs": [],
   "source": [
    "year = int(input(\"Enter the year:\"))\n",
    "if (year%4==0):\n",
    "    if (year%100!=0) or (year%400==0):\n",
    "        print(\"Leap Year\")\n",
    "    else:\n",
    "        print(\"Not a Leap Year\")\n",
    "else:\n",
    "    print(\"Not a Leap Year\")"
   ]
  },
  {
   "cell_type": "markdown",
   "id": "289b9489",
   "metadata": {},
   "source": [
    "5. Create a program that checks whether a character is a vowel or a consonant."
   ]
  },
  {
   "cell_type": "code",
   "execution_count": null,
   "id": "cb4d82df",
   "metadata": {},
   "outputs": [],
   "source": [
    "st=\"V\"\n",
    "if (st==\"a\") or (st==\"e\") or (st==\"i\") or (st==\"o\") or (st==\"u\"):\n",
    "    print(\"Vowel\")\n",
    "else:\n",
    "    print(\"Consonant\")"
   ]
  },
  {
   "cell_type": "markdown",
   "id": "6ccde692",
   "metadata": {},
   "source": [
    "6. Implement a program to determine whether a given number is even or odd."
   ]
  },
  {
   "cell_type": "code",
   "execution_count": null,
   "id": "57a4eef6",
   "metadata": {},
   "outputs": [],
   "source": [
    "n = int(input(\"Enter the Number:\"))\n",
    "if n%2==0:\n",
    "    print(\"{0} Number is Even\".format(n))\n",
    "else:\n",
    "    print(\"{1} Number is Odd\".format(n))"
   ]
  },
  {
   "cell_type": "markdown",
   "id": "8ae0c255",
   "metadata": {},
   "source": [
    "7. Write a Python function to calculate the absolute value of a number without using the `abs()` function."
   ]
  },
  {
   "cell_type": "code",
   "execution_count": null,
   "id": "76b575a7",
   "metadata": {},
   "outputs": [],
   "source": [
    "n = -2.45\n",
    "\n",
    "#1\n",
    "if n < 0:\n",
    "    print(n*-1)\n",
    "else:\n",
    "    print(n*1)\n",
    "    \n",
    "#2\n",
    "print((n**2)**(0.5))\n",
    "\n",
    "#3\n",
    "#print(abs(n))"
   ]
  },
  {
   "cell_type": "markdown",
   "id": "ee3aa399",
   "metadata": {},
   "source": [
    "8. Develop a program that determines the largest of three given numbers using if-else statements."
   ]
  },
  {
   "cell_type": "code",
   "execution_count": null,
   "id": "64ca612f",
   "metadata": {},
   "outputs": [],
   "source": [
    "n1,n2,n3 = 1,2,3\n",
    "if n1>=n2 and n1>=n3:\n",
    "    print(\"Maximum Number is :\",n1)\n",
    "elif n2>=n3:\n",
    "    print(\"Maximum Number is :\",n2)\n",
    "else:\n",
    "    print(\"Maximum Number is :\",n3)"
   ]
  },
  {
   "cell_type": "markdown",
   "id": "440939ed",
   "metadata": {},
   "source": [
    "9. Create a program that checks if a given string is a palindrome."
   ]
  },
  {
   "cell_type": "code",
   "execution_count": null,
   "id": "0b2af226",
   "metadata": {},
   "outputs": [],
   "source": [
    "n = \"VeereshsereeV\"\n",
    "if n == n[::-1]:\n",
    "    print(\"Palindrome\")\n",
    "else:\n",
    "    print(\"Not a Palindrome\")"
   ]
  },
  {
   "cell_type": "markdown",
   "id": "01c978ee",
   "metadata": {},
   "source": [
    "10. Write a Python program to calculate the grade based on a student's score."
   ]
  },
  {
   "cell_type": "code",
   "execution_count": null,
   "id": "bf3de521",
   "metadata": {},
   "outputs": [],
   "source": [
    "score = int(input(\"Enter the Score:\"))\n",
    "if score>=71:\n",
    "    print(\"Student's Grade is : A\")\n",
    "elif score<= 70 and score >= 60:\n",
    "    print(\"Student's Grade is : B\")\n",
    "elif score<= 60 and score >= 50:\n",
    "    print(\"Student's Grade is : C\")\n",
    "elif score<= 50 and score >= 35:\n",
    "    print(\"Student's Grade is : D\")\n",
    "else:\n",
    "    print(\"Student's Grade is : FAIL\",)"
   ]
  },
  {
   "cell_type": "markdown",
   "id": "e5806224",
   "metadata": {},
   "source": [
    "# Nested If-Else Statements:"
   ]
  },
  {
   "cell_type": "markdown",
   "id": "934535eb",
   "metadata": {},
   "source": [
    "11. Write a program to find the largest among three numbers using nested if-else statements."
   ]
  },
  {
   "cell_type": "code",
   "execution_count": null,
   "id": "8cbdddaa",
   "metadata": {},
   "outputs": [],
   "source": [
    "a,b,c = 30,20,25\n",
    "if a>b:\n",
    "    if a>c:\n",
    "        g=a\n",
    "    else:\n",
    "        g=c\n",
    "else:\n",
    "    if b>c:\n",
    "        g=b\n",
    "    else:\n",
    "        g=c\n",
    "\n",
    "# print the largest number \n",
    "print(\"Greater  = \",g)"
   ]
  },
  {
   "cell_type": "markdown",
   "id": "6df58dbe",
   "metadata": {},
   "source": [
    "12. Implement a program to determine if a triangle is equilateral, isosceles, or scalene."
   ]
  },
  {
   "cell_type": "code",
   "execution_count": null,
   "id": "ba79e46f",
   "metadata": {},
   "outputs": [],
   "source": [
    "s1,s2,s3 = 8,8,9\n",
    "if s1==s2 and s2==s3:\n",
    "    print(\"It is a equilateral traingle\")\n",
    "elif s1==s2 or s2==s3 or s1==s3:\n",
    "    print(\"It is a isosceles traingle\")\n",
    "else:\n",
    "    print(\"It is a scalene traingle\")\n"
   ]
  },
  {
   "cell_type": "markdown",
   "id": "fc9c8458",
   "metadata": {},
   "source": [
    "13. Develop a program that checks if a year is a leap year and also if it is a century year."
   ]
  },
  {
   "cell_type": "code",
   "execution_count": null,
   "id": "04ecba57",
   "metadata": {},
   "outputs": [],
   "source": [
    "year = int(input(\"Enter the year:\"))\n",
    "if (year%4==0):\n",
    "    if (year%100!=0) or (year%400==0):\n",
    "        print(\"Leap Year\")\n",
    "        if year%10==0:\n",
    "            print(\"Century Leap Year\")\n",
    "        else:\n",
    "            print(\"Not a century Leap Year\")\n",
    "    else:\n",
    "        print(\"Not a Leap Year\")\n",
    "else:\n",
    "    print(\"Not a Leap Year\")"
   ]
  },
  {
   "cell_type": "markdown",
   "id": "b8cc4bdd",
   "metadata": {},
   "source": [
    "14. Write a Python script to determine if a number is positive, negative, or zero."
   ]
  },
  {
   "cell_type": "code",
   "execution_count": null,
   "id": "d1dfcc7f",
   "metadata": {},
   "outputs": [],
   "source": [
    "n = int(input(\"Enter a Number:\"))\n",
    "if(n>0):\n",
    "    print(\"Positive\")\n",
    "elif n<0:\n",
    "    print(\"Negative\")\n",
    "else:\n",
    "    print(\"Zero\")"
   ]
  },
  {
   "cell_type": "markdown",
   "id": "8eb120b0",
   "metadata": {},
   "source": [
    "15. Create a program to check if a person is a teenager (between 13 and 19 years old)"
   ]
  },
  {
   "cell_type": "code",
   "execution_count": null,
   "id": "654a9db7",
   "metadata": {},
   "outputs": [],
   "source": [
    "age = int(input(\"Enter a Age:\"))\n",
    "if 13<age<19:\n",
    "    print(\"Teenager\")\n",
    "else:\n",
    "    print(\"Aged\")"
   ]
  },
  {
   "cell_type": "markdown",
   "id": "2480dc44",
   "metadata": {},
   "source": [
    "16. Develop a program that determines the type of angle based on its measure (acute, obtuse, or right)."
   ]
  },
  {
   "cell_type": "code",
   "execution_count": null,
   "id": "ea3638d2",
   "metadata": {},
   "outputs": [],
   "source": [
    "Angle = int(input(\"Enter a degree:\"))\n",
    "if Angle<90:\n",
    "    print(\"It's a actue angle\")\n",
    "elif 90<Angle<180:\n",
    "    print(\"It's a Obtuse angle\")\n",
    "elif Angle==90:\n",
    "    print(\"It's a Right Angle\")\n",
    "else:\n",
    "    print(\"It's a Reflex Angle\")"
   ]
  },
  {
   "cell_type": "markdown",
   "id": "ac86e52b",
   "metadata": {},
   "source": [
    "17. Write a Python program to calculate the roots of a quadratic equation."
   ]
  },
  {
   "cell_type": "code",
   "execution_count": null,
   "id": "2817b0cb",
   "metadata": {},
   "outputs": [],
   "source": [
    "a,b,c = 1,4,3\n",
    "d = (b**2)-(4*a*c)\n",
    "if d<0:\n",
    "    print(\"Roots are Imaginary\")\n",
    "elif d==0:\n",
    "    r1,r2= -b/2*a,-b/2*a\n",
    "    print(\"Roots are \",r1,r2)\n",
    "elif d>0:\n",
    "    r1 = (-b+(d**0.5))/2*a\n",
    "    r2 = (-b-(d**0.5))/2*a\n",
    "    print(\"Roots are \",r1,r2,)"
   ]
  },
  {
   "cell_type": "markdown",
   "id": "191c1d22",
   "metadata": {},
   "source": [
    "18. Implement a program to determine the day of the week based on a user-provided number (1 for Monday, 2 \n",
    "for Tuesday, etc.)"
   ]
  },
  {
   "cell_type": "code",
   "execution_count": null,
   "id": "4837bebb",
   "metadata": {},
   "outputs": [],
   "source": [
    "n = int(input(\"Enter a Number:\"))\n",
    "if 1<=n<=7:\n",
    "    if n==1:\n",
    "        print(\"Monday\")\n",
    "    elif n==2:\n",
    "        print(\"Tuesday\")\n",
    "    elif n==3:\n",
    "        print(\"Wednesday\")\n",
    "    elif n==4:\n",
    "        print(\"Thursday\")\n",
    "    elif n==5:\n",
    "        print(\"Friday\")\n",
    "    elif n==6:\n",
    "        print(\"Saturday\")\n",
    "    elif n==7:\n",
    "        print(\"Sunday\")\n",
    "else:\n",
    "    print(\"Entered numbered is not in required range\")"
   ]
  },
  {
   "cell_type": "markdown",
   "id": "92806326",
   "metadata": {},
   "source": [
    "19. Create a program that determines if a year is a leap year and also if it is evenly divisible by 400."
   ]
  },
  {
   "cell_type": "code",
   "execution_count": null,
   "id": "e09e3ada",
   "metadata": {},
   "outputs": [],
   "source": [
    "year = int(input(\"Enter the year:\"))\n",
    "if (year%4==0):\n",
    "    if (year%100!=0) or (year%400==0):\n",
    "        print(\"Leap Year\")\n",
    "        if year%400==0:\n",
    "            print(\"it is evenly divisible by 400\")\n",
    "        else:\n",
    "            print(\"it isn't evenly divisible by 400\")\n",
    "    else:\n",
    "        print(\"Not a Leap Year\")\n",
    "else:\n",
    "    print(\"Not a Leap Year\")"
   ]
  },
  {
   "cell_type": "markdown",
   "id": "a77244ec",
   "metadata": {},
   "source": [
    "20. Develop a program that checks if a given number is prime or not using nested if-else statements."
   ]
  },
  {
   "cell_type": "code",
   "execution_count": null,
   "id": "81f3f2ac",
   "metadata": {},
   "outputs": [],
   "source": [
    "n = int(input(\"Enter the Number:\"))\n",
    "if n>1:\n",
    "    for i in range(2,n-1):\n",
    "        if(n%i==0):\n",
    "            print(\"It's not a prime\")\n",
    "            break\n",
    "    else:\n",
    "        print(\"It's a Prime\")\n",
    "else:\n",
    "    print(\"It's not a prime and range should be greater than 1\")"
   ]
  },
  {
   "cell_type": "markdown",
   "id": "d0369f4e",
   "metadata": {},
   "source": [
    "# Elif Statements:"
   ]
  },
  {
   "cell_type": "markdown",
   "id": "958160f3",
   "metadata": {},
   "source": [
    "21. Write a Python program to assign grades based on different ranges of scores using elif statements."
   ]
  },
  {
   "cell_type": "code",
   "execution_count": null,
   "id": "5edf0416",
   "metadata": {},
   "outputs": [],
   "source": [
    "score = int(input(\"Enter the Score:\"))\n",
    "if score>=71:\n",
    "    print(\"Student's Grade is : A\")\n",
    "elif score<= 70 and score >= 60:\n",
    "    print(\"Student's Grade is : B\")\n",
    "elif score<= 60 and score >= 50:\n",
    "    print(\"Student's Grade is : C\")\n",
    "elif score<= 50 and score >= 35:\n",
    "    print(\"Student's Grade is : D\")\n",
    "else:\n",
    "    print(\"Student's Grade is : FAIL\",)"
   ]
  },
  {
   "cell_type": "markdown",
   "id": "133e192a",
   "metadata": {},
   "source": [
    "22. Implement a program to determine the type of a triangle based on its angles"
   ]
  },
  {
   "cell_type": "code",
   "execution_count": null,
   "id": "1b125643",
   "metadata": {},
   "outputs": [],
   "source": [
    "Angle1,Angle2,Angle3 = 89,90,99\n",
    "\n",
    "if Angle1<90 and Angle2<90 and Angle3<90:\n",
    "    print(\"It's a actue triangle\")\n",
    "\n",
    "elif (Angle1>90 and Angle2<90 and Angle3<90) or (Angle1<90 and Angle2>90 and Angle3<90) or (Angle1<90 and Angle2<90 and Angle3>90):\n",
    "    print(\"It's a Obtuse triangle\")\n",
    "    \n",
    "elif (Angle1==90 and Angle2!=90 and Angle3!=90) or (Angle1!=90 and Angle2==90 and Angle3!=90) or (Angle1!=90 and Angle2!=90 and Angle3==90):\n",
    "    print(\"It's a Right angle triangle\")\n",
    "    \n",
    "else:\n",
    "    print(\"Invalid Angles\")\n",
    "    "
   ]
  },
  {
   "cell_type": "markdown",
   "id": "1cc885fa",
   "metadata": {},
   "source": [
    "23. Develop a program to categorize a given person's BMI into underweight, normal, overweight, or obese using \n",
    "elif statements"
   ]
  },
  {
   "cell_type": "code",
   "execution_count": null,
   "id": "56b182ad",
   "metadata": {},
   "outputs": [],
   "source": [
    "H = float(input(\"Enter the Height (in Meters):\"))\n",
    "W = int(input(\"Enter the Weight (in Kgs):\"))\n",
    "\n",
    "BMI = W/(H*H)\n",
    "\n",
    "if BMI>0:\n",
    "    if BMI < 18.5:\n",
    "        print(\"Underweight\")\n",
    "    elif 18.5<BMI<24.9:\n",
    "        print(\"Normal\")\n",
    "    elif 25<BMI<29.9:\n",
    "        print(\"OverWeight\")\n",
    "    else:\n",
    "        print(\"Obese\")\n",
    "else:\n",
    "    print(\"Enter a valid Inputs\")\n"
   ]
  },
  {
   "cell_type": "markdown",
   "id": "0dd7cc42",
   "metadata": {},
   "source": [
    "24. Create a program that determines whether a given number is positive, negative, or zero using elif \n",
    "statements."
   ]
  },
  {
   "cell_type": "code",
   "execution_count": null,
   "id": "b242b4ef",
   "metadata": {},
   "outputs": [],
   "source": [
    "n = int(input(\"Enter a Number:\"))\n",
    "if(n>0):\n",
    "    print(\"Positive\")\n",
    "elif n<0:\n",
    "    print(\"Negative\")\n",
    "else:\n",
    "    print(\"Zero\")"
   ]
  },
  {
   "cell_type": "markdown",
   "id": "4f6de9af",
   "metadata": {},
   "source": [
    "25. Write a Python script to determine the type of a character (uppercase, lowercase, or special) using elif \n",
    "statements"
   ]
  },
  {
   "cell_type": "code",
   "execution_count": null,
   "id": "495f313a",
   "metadata": {},
   "outputs": [],
   "source": [
    "C = input(\"Enter a Character:\")\n",
    "# s = '[@_!#$%^&*()<>?/\\|}{~:]'\n",
    "\n",
    "if(C.isupper()):\n",
    "    print(\"Uppercase\")\n",
    "elif(C.islower()):\n",
    "    print(\"Lowercase\")\n",
    "else:\n",
    "    for i in C:\n",
    "        if not(i.isalpha() or i.isdigit() or i==\" \"):\n",
    "            print(\"Special Character\")\n",
    "# else:\n",
    "#     if C in s:\n",
    "#         print(\"Special Character\")\n",
    "#     else:\n",
    "#         print(\"\")\n",
    "        \n",
    "    \n"
   ]
  },
  {
   "cell_type": "markdown",
   "id": "3ba47c02",
   "metadata": {},
   "source": [
    "26. Implement a program to calculate the discounted price based on different purchase amounts using elif \n",
    "statements."
   ]
  },
  {
   "cell_type": "code",
   "execution_count": null,
   "id": "cf6d30e6",
   "metadata": {},
   "outputs": [],
   "source": [
    "amount = int(input(\"Enter the Purchase Amount:\"))\n",
    "if amount>100000:\n",
    "    discount = (amount/100)*50\n",
    "    print(discount)\n",
    "elif amount>50000:\n",
    "    discount = (amount/100)*30\n",
    "    print(discount)\n",
    "elif amount>10000:\n",
    "    discount = (amount/100)*20\n",
    "    print(discount)\n",
    "elif amount>5000:\n",
    "    discount = (amount/100)*10\n",
    "    print(discount)\n",
    "elif amount<5000:\n",
    "    discount = (amount/100)*5\n",
    "    print(discount)"
   ]
  },
  {
   "cell_type": "markdown",
   "id": "ea5075e1",
   "metadata": {},
   "source": [
    "27. Develop a program to calculate the electricity bill based on different consumption slabs using elif \n",
    "statements."
   ]
  },
  {
   "cell_type": "code",
   "execution_count": 5,
   "id": "a74f3be8",
   "metadata": {},
   "outputs": [
    {
     "name": "stdout",
     "output_type": "stream",
     "text": [
      "Enter the units used:250\n",
      "600.0\n"
     ]
    }
   ],
   "source": [
    "units = int(input(\"Enter the units used:\"))\n",
    "consumed = 0\n",
    "if units<100:\n",
    "    consumed += units*1.5\n",
    "elif units<200:\n",
    "    consumed += 100*1.5+(units-100)*2.5\n",
    "elif units<300:\n",
    "    consumed += 100*1.5+(100*2.5)+(units-200)*4\n",
    "elif units>300:\n",
    "    consumed += 15000\n",
    "print(consumed)"
   ]
  },
  {
   "cell_type": "markdown",
   "id": "6e9066de",
   "metadata": {},
   "source": [
    "28. Create a program to determine the type of quadrilateral based on its angles and sides using elif \n",
    "statements"
   ]
  },
  {
   "cell_type": "code",
   "execution_count": 3,
   "id": "7f58cbda",
   "metadata": {},
   "outputs": [
    {
     "name": "stdout",
     "output_type": "stream",
     "text": [
      "It is a isosceles traingle\n"
     ]
    }
   ],
   "source": [
    "s1,s2,s3,s4 = 8,8,9,7\n",
    "a1,a2,a3,a4 = 90,65,115,90\n",
    "if \n"
   ]
  },
  {
   "cell_type": "code",
   "execution_count": null,
   "id": "23bc4226",
   "metadata": {},
   "outputs": [],
   "source": []
  },
  {
   "cell_type": "code",
   "execution_count": null,
   "id": "d00faac1",
   "metadata": {},
   "outputs": [],
   "source": []
  },
  {
   "cell_type": "markdown",
   "id": "d8e58c24",
   "metadata": {},
   "source": [
    "29. Write a Python script to determine the season based on a user-provided month using elif statements."
   ]
  },
  {
   "cell_type": "code",
   "execution_count": null,
   "id": "ad1fa1cd",
   "metadata": {},
   "outputs": [],
   "source": [
    "month = int(input(\"Enter the month:\"))\n",
    "if 1<=month<=12:\n",
    "    if 3<=month<=6:\n",
    "        print(\"It's a Summer\")\n",
    "    elif 7<=month<=10:\n",
    "        print(\"It's a Rainy Season\")\n",
    "    else:\n",
    "        print(\"It's a Winter\")"
   ]
  },
  {
   "cell_type": "markdown",
   "id": "c7203e16",
   "metadata": {},
   "source": [
    "30. Implement a program to determine the type of a year (leap or common) and month (30 or 31 days) using elif statements."
   ]
  },
  {
   "cell_type": "code",
   "execution_count": 2,
   "id": "751d8b1f",
   "metadata": {},
   "outputs": [
    {
     "name": "stdout",
     "output_type": "stream",
     "text": [
      "Enter the year:2023\n",
      "Enter the month:8\n",
      "Month has 31 Days\n"
     ]
    }
   ],
   "source": [
    "year = int(input(\"Enter the year:\"))\n",
    "month = int(input(\"Enter the month:\"))\n",
    "if (month==2) and (year%4==0) and ((year%100!=0) or (year%400==0)):\n",
    "        print(\"Leap Year\")\n",
    "        print(\"Month has 29 Days\")\n",
    "elif month==2:\n",
    "    print(\"Month has 28 Days\")\n",
    "\n",
    "elif(month==1 or month==3 or month==5 or month==7 or month==8 or month==10 or month==12):\n",
    "    print(\"Month has 31 Days\")\n",
    "else:\n",
    "    print(\"Month has 30 Days\")\n"
   ]
  },
  {
   "cell_type": "code",
   "execution_count": null,
   "id": "aa752e41",
   "metadata": {},
   "outputs": [],
   "source": []
  },
  {
   "cell_type": "code",
   "execution_count": null,
   "id": "869ae917",
   "metadata": {},
   "outputs": [],
   "source": []
  },
  {
   "cell_type": "code",
   "execution_count": null,
   "id": "53f9b124",
   "metadata": {},
   "outputs": [],
   "source": []
  },
  {
   "cell_type": "code",
   "execution_count": null,
   "id": "7a912a64",
   "metadata": {},
   "outputs": [],
   "source": []
  },
  {
   "cell_type": "code",
   "execution_count": null,
   "id": "e2eda364",
   "metadata": {},
   "outputs": [],
   "source": []
  },
  {
   "cell_type": "code",
   "execution_count": null,
   "id": "8756c828",
   "metadata": {},
   "outputs": [],
   "source": []
  },
  {
   "cell_type": "code",
   "execution_count": null,
   "id": "476620c2",
   "metadata": {},
   "outputs": [],
   "source": []
  },
  {
   "cell_type": "code",
   "execution_count": null,
   "id": "cb50ec6d",
   "metadata": {},
   "outputs": [],
   "source": []
  },
  {
   "cell_type": "code",
   "execution_count": null,
   "id": "e8ef379c",
   "metadata": {},
   "outputs": [],
   "source": []
  }
 ],
 "metadata": {
  "kernelspec": {
   "display_name": "Python 3 (ipykernel)",
   "language": "python",
   "name": "python3"
  },
  "language_info": {
   "codemirror_mode": {
    "name": "ipython",
    "version": 3
   },
   "file_extension": ".py",
   "mimetype": "text/x-python",
   "name": "python",
   "nbconvert_exporter": "python",
   "pygments_lexer": "ipython3",
   "version": "3.11.4"
  }
 },
 "nbformat": 4,
 "nbformat_minor": 5
}
